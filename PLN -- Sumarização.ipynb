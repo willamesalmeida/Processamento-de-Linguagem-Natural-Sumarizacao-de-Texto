{
 "cells": [
  {
   "cell_type": "markdown",
   "metadata": {},
   "source": [
    "## Pegando informações do site TNH1"
   ]
  },
  {
   "cell_type": "code",
   "execution_count": 1,
   "metadata": {},
   "outputs": [],
   "source": [
    "import requests\n",
    "import bs4"
   ]
  },
  {
   "cell_type": "code",
   "execution_count": 2,
   "metadata": {},
   "outputs": [],
   "source": [
    "# pegando informações do site \n",
    "def scrapin(site):\n",
    "    res = requests.get('{}'.format(site))\n",
    "    soup = bs4.BeautifulSoup(res.text,'lxml')\n",
    "    return soup"
   ]
  },
  {
   "cell_type": "code",
   "execution_count": 3,
   "metadata": {},
   "outputs": [
    {
     "name": "stdout",
     "output_type": "stream",
     "text": [
      "site conectado\n"
     ]
    }
   ],
   "source": [
    "# conectando ao site\n",
    "# Noitica Lula\n",
    "site1 = 'https://www.tnh1.com.br/noticia/nid/preso-ha-1-ano-lula-tem-rotina-com-tv-advogados-e-videos-de-reunioes-do-pt/'\n",
    "# Noticia Rio São Francisco\n",
    "site2 = 'https://www.tnh1.com.br/noticia/nid/mpf-obtem-liminar-contra-chesf-por-surgimento-de-mancha-no-rio-sao-francisco/'\n",
    "# Noticia 150 anos da morte de Kardec\n",
    "site3 = 'https://www.tnh1.com.br/noticia/nid/espiritismo-marca-150-anos-da-morte-de-kardec-diante-de-momento-chave/'\n",
    "\n",
    "# jogando na funcao para fascilitar a manipulacao\n",
    "dados = scrapin(site2)\n",
    "print(\"site conectado\")\n"
   ]
  },
  {
   "cell_type": "markdown",
   "metadata": {},
   "source": [
    "## Tratando os dados da materia"
   ]
  },
  {
   "cell_type": "code",
   "execution_count": 4,
   "metadata": {},
   "outputs": [
    {
     "name": "stdout",
     "output_type": "stream",
     "text": [
      "\n",
      "A Justiça Federal atendeu a pedidos de liminar feitos pelo Ministério Público Federal (MPF) e proibiu que a Companhia Hidrelétrica do São Francisco (Chesf) realize novo deplecionamento (redução de vazão) em qualquer reservatório integrante do Complexo Hidrelétrico de Paulo Afonso e da UHE Xingó, sem a observância de todas as condicionantes e/ou exigências estabelecidas em autorização ambiental concedida pelo IBAMA.\n",
      "A decisão foi da juíza federal Camila Monteiro Pullin, em resposta a ação civil pública ajuizada pelo MPF contra a Chesf em razão de manchas escuras que apareçam no Rio São Francisco, no ano de 2015, que levou ao desabastecimento de pelo menos sete municípios alagoanos, atingindo mais de 100 mil pessoas.\n",
      "A Justiça atendeu ainda ao pedido do MPF de pena de multa, por cada novo episódio, no valor de mais de R$ 6 milhões, correspondente a dez vezes o valor da multa aplicada pelo IMA/AL quando da ocorrência de 2015, sem prejuízo da reparação pelos danos ambientais materiais e morais advindos dessa eventual nova ocorrência.\n",
      "E, caso haja necessidade de realização da operação de deplecionamento, a Chesf deve seguir as orientações dos órgãos ambientais competentes, a fim de evitar risco de cometimento de novo desequilíbrio ambiental no Rio São Francisco.\n",
      "Apuração\n",
      "A ação proposta pelos procuradores da República Bruno Lamenha e Manoel Antônio Gonçalves, baseou-se nas apurações do MPF no inquérito civil n° 1.11.000.000094/2015-62, tramitando na Procuradoria da República em Arapiraca, instaurado para investigar notícia sobre a existência de mancha de 25km de extensão no Rio São Francisco. Por causa da mancha, a Companhia de Saneamento de Alagoas (Casal) teria suspendido o abastecimento de água em, pelo menos, sete municípios alagoanos.\n",
      "Após investigação, o MPF concluiu que a Chesf é responsável pelo aparecimento da mencionada mancha escura no rio, em razão de, no dia 22/02/2015, ter realizado uma operação de deplecionamento do reservatório Delmiro Gouveia, ou seja, uma redução do nível da água do reservatório, levando-o a um patamar que desde 2005 não era atingido.\n",
      "Desabastecimento\n",
      "A Casal informou ao MPF que a estação elevatória e a estação de tratamento onde houve interrupções integra o sistema coletivo da Adutora do Sertão, abastecendo os municípios de Delmiro Gouveia, Pariconha, Olho d´Água do Casado, Água Branca, Mata Grande, Canapi e Inhapi, uma população de mais de 100 mil habitantes.\n",
      "Além dos pedidos liminares já apreciados, o MPF requereu à Justiça Federal a condenação da Chesf ao pagamento de indenizações por danos materiais causados ao meio ambiente e por danos extrapatrimoniais causados à coletividade.\n",
      "Ambos pagamentos seriam revertidos ao Fundo de Defesa de Direitos Difusos e/ou em conta judicial a ser aberta especificamente para subsidiar projetos ambientais de fiscalização, conscientização e preservação ambiental no baixo São Francisco, sob responsabilidade do Comitê da Bacia Hidrográfica do Rio São Francisco e mediante prévio exame, aprovação e fiscalização do MPF, de órgãos ambientais e da própria Justiça Federal.\n",
      "ACP n° 0800013-07.2018.4.05.8003T, tramita na 11ª Vara Federal em Alagoas (Santana do Ipanema), a Decisão é de 22/03/2019.\n"
     ]
    }
   ],
   "source": [
    "texto = \"\"\n",
    "for d in dados.find_all('p',\"bodytext\"):\n",
    "    texto += \"\\n\" +d.get_text()\n",
    "print(texto)"
   ]
  },
  {
   "cell_type": "markdown",
   "metadata": {},
   "source": [
    "## Processo de Analise de texto"
   ]
  },
  {
   "cell_type": "code",
   "execution_count": 5,
   "metadata": {},
   "outputs": [],
   "source": [
    "from nltk.tokenize import word_tokenize\n",
    "from nltk.tokenize import sent_tokenize\n",
    "\n",
    "# dividindo em sentenças e depois em palavras\n",
    "sentencas = sent_tokenize(texto)\n",
    "palavras = word_tokenize(texto.lower())"
   ]
  },
  {
   "cell_type": "code",
   "execution_count": 6,
   "metadata": {},
   "outputs": [
    {
     "data": {
      "text/plain": [
       "['\\nA Justiça Federal atendeu a pedidos de liminar feitos pelo Ministério Público Federal (MPF) e proibiu que a\\xa0Companhia Hidrelétrica do São Francisco (Chesf) realize novo deplecionamento (redução de vazão) em qualquer reservatório integrante do Complexo Hidrelétrico de Paulo Afonso e da UHE Xingó, sem a observância de todas as condicionantes e/ou exigências estabelecidas em autorização ambiental concedida pelo IBAMA.',\n",
       " 'A decisão foi da juíza federal Camila Monteiro Pullin, em resposta a ação civil pública ajuizada pelo MPF contra a Chesf\\xa0em razão de manchas escuras que apareçam no Rio São Francisco, no ano de 2015, que levou ao desabastecimento de\\xa0pelo menos\\xa0sete municípios alagoanos, atingindo mais de 100 mil pessoas.',\n",
       " 'A Justiça\\xa0atendeu ainda ao pedido do MPF de pena de multa, por cada novo episódio, no valor de mais de R$ 6 milhões, correspondente a dez vezes o valor da multa aplicada pelo IMA/AL quando da ocorrência de 2015, sem prejuízo da reparação pelos danos ambientais materiais e morais advindos dessa eventual nova ocorrência.',\n",
       " 'E, caso haja necessidade de realização da operação de deplecionamento, a Chesf deve seguir as orientações dos órgãos ambientais competentes, a fim de evitar risco de cometimento de novo desequilíbrio ambiental no Rio São Francisco.',\n",
       " 'Apuração\\nA ação proposta pelos procuradores da República Bruno Lamenha e Manoel Antônio Gonçalves, baseou-se nas apurações do MPF no inquérito civil n° 1.11.000.000094/2015-62, tramitando na Procuradoria da República em Arapiraca, instaurado para investigar notícia sobre a existência de mancha\\xa0de 25km de extensão no Rio São Francisco.',\n",
       " 'Por causa da mancha, a Companhia de Saneamento de Alagoas (Casal) teria suspendido o abastecimento de água em, pelo menos, sete municípios alagoanos.',\n",
       " 'Após investigação, o MPF concluiu que a Chesf é responsável pelo aparecimento da mencionada mancha escura no rio, em razão de, no dia 22/02/2015, ter realizado uma operação de deplecionamento do reservatório Delmiro Gouveia, ou seja, uma redução do nível da água do reservatório, levando-o a um patamar que desde 2005 não era atingido.',\n",
       " 'Desabastecimento\\nA Casal informou ao MPF que a estação elevatória e a estação de tratamento onde houve interrupções integra o sistema coletivo da Adutora do Sertão, abastecendo os municípios de Delmiro Gouveia, Pariconha, Olho d´Água do Casado, Água Branca, Mata Grande, Canapi e Inhapi, uma população de mais de 100 mil habitantes.',\n",
       " 'Além dos pedidos liminares já apreciados, o MPF requereu à Justiça Federal a condenação da Chesf ao pagamento de indenizações por danos materiais causados ao meio ambiente e por danos extrapatrimoniais causados à coletividade.',\n",
       " 'Ambos pagamentos seriam revertidos ao Fundo de Defesa de Direitos Difusos e/ou em conta judicial a ser aberta especificamente para subsidiar projetos ambientais de fiscalização, conscientização e preservação ambiental no baixo São Francisco, sob responsabilidade do Comitê da Bacia Hidrográfica do Rio São Francisco e mediante prévio exame, aprovação e fiscalização do MPF, de órgãos ambientais e da própria Justiça Federal.',\n",
       " 'ACP n° 0800013-07.2018.4.05.8003T, tramita na 11ª Vara Federal em Alagoas (Santana do Ipanema), a Decisão é de 22/03/2019.']"
      ]
     },
     "execution_count": 6,
     "metadata": {},
     "output_type": "execute_result"
    }
   ],
   "source": [
    "# mostrar como ficou\n",
    "sentencas"
   ]
  },
  {
   "cell_type": "markdown",
   "metadata": {},
   "source": [
    "## Retirando as stopwords da lista de palavras"
   ]
  },
  {
   "cell_type": "code",
   "execution_count": 7,
   "metadata": {},
   "outputs": [],
   "source": [
    "from nltk.corpus import stopwords\n",
    "from string import punctuation\n",
    "\n",
    "stopwords = set(stopwords.words('portuguese') + list(punctuation))\n",
    "palavras_sem_stopwords = [palavra for palavra in palavras if palavra not in stopwords]"
   ]
  },
  {
   "cell_type": "code",
   "execution_count": 8,
   "metadata": {},
   "outputs": [
    {
     "data": {
      "text/plain": [
       "['justiça',\n",
       " 'federal',\n",
       " 'atendeu',\n",
       " 'pedidos',\n",
       " 'liminar',\n",
       " 'feitos',\n",
       " 'ministério',\n",
       " 'público',\n",
       " 'federal',\n",
       " 'mpf',\n",
       " 'proibiu',\n",
       " 'companhia',\n",
       " 'hidrelétrica',\n",
       " 'francisco',\n",
       " 'chesf',\n",
       " 'realize',\n",
       " 'novo',\n",
       " 'deplecionamento',\n",
       " 'redução',\n",
       " 'vazão',\n",
       " 'qualquer',\n",
       " 'reservatório',\n",
       " 'integrante',\n",
       " 'complexo',\n",
       " 'hidrelétrico',\n",
       " 'paulo',\n",
       " 'afonso',\n",
       " 'uhe',\n",
       " 'xingó',\n",
       " 'observância',\n",
       " 'todas',\n",
       " 'condicionantes',\n",
       " 'e/ou',\n",
       " 'exigências',\n",
       " 'estabelecidas',\n",
       " 'autorização',\n",
       " 'ambiental',\n",
       " 'concedida',\n",
       " 'ibama',\n",
       " 'decisão',\n",
       " 'juíza',\n",
       " 'federal',\n",
       " 'camila',\n",
       " 'monteiro',\n",
       " 'pullin',\n",
       " 'resposta',\n",
       " 'ação',\n",
       " 'civil',\n",
       " 'pública',\n",
       " 'ajuizada',\n",
       " 'mpf',\n",
       " 'contra',\n",
       " 'chesf',\n",
       " 'razão',\n",
       " 'manchas',\n",
       " 'escuras',\n",
       " 'apareçam',\n",
       " 'rio',\n",
       " 'francisco',\n",
       " 'ano',\n",
       " '2015',\n",
       " 'levou',\n",
       " 'desabastecimento',\n",
       " 'menos',\n",
       " 'sete',\n",
       " 'municípios',\n",
       " 'alagoanos',\n",
       " 'atingindo',\n",
       " '100',\n",
       " 'mil',\n",
       " 'pessoas',\n",
       " 'justiça',\n",
       " 'atendeu',\n",
       " 'ainda',\n",
       " 'pedido',\n",
       " 'mpf',\n",
       " 'pena',\n",
       " 'multa',\n",
       " 'cada',\n",
       " 'novo',\n",
       " 'episódio',\n",
       " 'valor',\n",
       " 'r',\n",
       " '6',\n",
       " 'milhões',\n",
       " 'correspondente',\n",
       " 'dez',\n",
       " 'vezes',\n",
       " 'valor',\n",
       " 'multa',\n",
       " 'aplicada',\n",
       " 'ima/al',\n",
       " 'ocorrência',\n",
       " '2015',\n",
       " 'prejuízo',\n",
       " 'reparação',\n",
       " 'danos',\n",
       " 'ambientais',\n",
       " 'materiais',\n",
       " 'morais',\n",
       " 'advindos',\n",
       " 'dessa',\n",
       " 'eventual',\n",
       " 'nova',\n",
       " 'ocorrência',\n",
       " 'caso',\n",
       " 'necessidade',\n",
       " 'realização',\n",
       " 'operação',\n",
       " 'deplecionamento',\n",
       " 'chesf',\n",
       " 'deve',\n",
       " 'seguir',\n",
       " 'orientações',\n",
       " 'órgãos',\n",
       " 'ambientais',\n",
       " 'competentes',\n",
       " 'fim',\n",
       " 'evitar',\n",
       " 'risco',\n",
       " 'cometimento',\n",
       " 'novo',\n",
       " 'desequilíbrio',\n",
       " 'ambiental',\n",
       " 'rio',\n",
       " 'francisco',\n",
       " 'apuração',\n",
       " 'ação',\n",
       " 'proposta',\n",
       " 'procuradores',\n",
       " 'república',\n",
       " 'bruno',\n",
       " 'lamenha',\n",
       " 'manoel',\n",
       " 'antônio',\n",
       " 'gonçalves',\n",
       " 'baseou-se',\n",
       " 'apurações',\n",
       " 'mpf',\n",
       " 'inquérito',\n",
       " 'civil',\n",
       " 'n°',\n",
       " '1.11.000.000094/2015-62',\n",
       " 'tramitando',\n",
       " 'procuradoria',\n",
       " 'república',\n",
       " 'arapiraca',\n",
       " 'instaurado',\n",
       " 'investigar',\n",
       " 'notícia',\n",
       " 'sobre',\n",
       " 'existência',\n",
       " 'mancha',\n",
       " '25km',\n",
       " 'extensão',\n",
       " 'rio',\n",
       " 'francisco',\n",
       " 'causa',\n",
       " 'mancha',\n",
       " 'companhia',\n",
       " 'saneamento',\n",
       " 'alagoas',\n",
       " 'casal',\n",
       " 'suspendido',\n",
       " 'abastecimento',\n",
       " 'água',\n",
       " 'menos',\n",
       " 'sete',\n",
       " 'municípios',\n",
       " 'alagoanos',\n",
       " 'após',\n",
       " 'investigação',\n",
       " 'mpf',\n",
       " 'concluiu',\n",
       " 'chesf',\n",
       " 'é',\n",
       " 'responsável',\n",
       " 'aparecimento',\n",
       " 'mencionada',\n",
       " 'mancha',\n",
       " 'escura',\n",
       " 'rio',\n",
       " 'razão',\n",
       " 'dia',\n",
       " '22/02/2015',\n",
       " 'ter',\n",
       " 'realizado',\n",
       " 'operação',\n",
       " 'deplecionamento',\n",
       " 'reservatório',\n",
       " 'delmiro',\n",
       " 'gouveia',\n",
       " 'redução',\n",
       " 'nível',\n",
       " 'água',\n",
       " 'reservatório',\n",
       " 'levando-o',\n",
       " 'patamar',\n",
       " 'desde',\n",
       " '2005',\n",
       " 'atingido',\n",
       " 'desabastecimento',\n",
       " 'casal',\n",
       " 'informou',\n",
       " 'mpf',\n",
       " 'estação',\n",
       " 'elevatória',\n",
       " 'estação',\n",
       " 'tratamento',\n",
       " 'onde',\n",
       " 'interrupções',\n",
       " 'integra',\n",
       " 'sistema',\n",
       " 'coletivo',\n",
       " 'adutora',\n",
       " 'sertão',\n",
       " 'abastecendo',\n",
       " 'municípios',\n",
       " 'delmiro',\n",
       " 'gouveia',\n",
       " 'pariconha',\n",
       " 'olho',\n",
       " 'd´água',\n",
       " 'casado',\n",
       " 'água',\n",
       " 'branca',\n",
       " 'mata',\n",
       " 'grande',\n",
       " 'canapi',\n",
       " 'inhapi',\n",
       " 'população',\n",
       " '100',\n",
       " 'mil',\n",
       " 'habitantes',\n",
       " 'além',\n",
       " 'pedidos',\n",
       " 'liminares',\n",
       " 'apreciados',\n",
       " 'mpf',\n",
       " 'requereu',\n",
       " 'justiça',\n",
       " 'federal',\n",
       " 'condenação',\n",
       " 'chesf',\n",
       " 'pagamento',\n",
       " 'indenizações',\n",
       " 'danos',\n",
       " 'materiais',\n",
       " 'causados',\n",
       " 'meio',\n",
       " 'ambiente',\n",
       " 'danos',\n",
       " 'extrapatrimoniais',\n",
       " 'causados',\n",
       " 'coletividade',\n",
       " 'ambos',\n",
       " 'pagamentos',\n",
       " 'revertidos',\n",
       " 'fundo',\n",
       " 'defesa',\n",
       " 'direitos',\n",
       " 'difusos',\n",
       " 'e/ou',\n",
       " 'conta',\n",
       " 'judicial',\n",
       " 'ser',\n",
       " 'aberta',\n",
       " 'especificamente',\n",
       " 'subsidiar',\n",
       " 'projetos',\n",
       " 'ambientais',\n",
       " 'fiscalização',\n",
       " 'conscientização',\n",
       " 'preservação',\n",
       " 'ambiental',\n",
       " 'baixo',\n",
       " 'francisco',\n",
       " 'sob',\n",
       " 'responsabilidade',\n",
       " 'comitê',\n",
       " 'bacia',\n",
       " 'hidrográfica',\n",
       " 'rio',\n",
       " 'francisco',\n",
       " 'mediante',\n",
       " 'prévio',\n",
       " 'exame',\n",
       " 'aprovação',\n",
       " 'fiscalização',\n",
       " 'mpf',\n",
       " 'órgãos',\n",
       " 'ambientais',\n",
       " 'própria',\n",
       " 'justiça',\n",
       " 'federal',\n",
       " 'acp',\n",
       " 'n°',\n",
       " '0800013-07.2018.4.05.8003t',\n",
       " 'tramita',\n",
       " '11ª',\n",
       " 'vara',\n",
       " 'federal',\n",
       " 'alagoas',\n",
       " 'santana',\n",
       " 'ipanema',\n",
       " 'decisão',\n",
       " 'é',\n",
       " '22/03/2019']"
      ]
     },
     "execution_count": 8,
     "metadata": {},
     "output_type": "execute_result"
    }
   ],
   "source": [
    "palavras_sem_stopwords"
   ]
  },
  {
   "cell_type": "markdown",
   "metadata": {},
   "source": [
    "## Palavras mais importantes"
   ]
  },
  {
   "cell_type": "code",
   "execution_count": 9,
   "metadata": {},
   "outputs": [],
   "source": [
    "from nltk.probability import FreqDist\n",
    "\n",
    "frequencia = FreqDist(palavras_sem_stopwords)"
   ]
  },
  {
   "cell_type": "code",
   "execution_count": 10,
   "metadata": {},
   "outputs": [
    {
     "data": {
      "text/plain": [
       "FreqDist({'mpf': 8, 'federal': 6, 'francisco': 6, 'chesf': 5, 'rio': 5, 'justiça': 4, 'ambientais': 4, 'novo': 3, 'municípios': 3, 'mancha': 3, ...})"
      ]
     },
     "execution_count": 10,
     "metadata": {},
     "output_type": "execute_result"
    }
   ],
   "source": [
    "frequencia"
   ]
  },
  {
   "cell_type": "markdown",
   "metadata": {},
   "source": [
    "## Sentenças mais importantes"
   ]
  },
  {
   "cell_type": "code",
   "execution_count": 11,
   "metadata": {},
   "outputs": [],
   "source": [
    "from collections import defaultdict\n",
    "# cria um score com base nas palavras importantes que aparece dentro delas\n",
    "# defaultdict adiciona a chave quando a pesquisa da keyerror\n",
    "sentencas_importantes = defaultdict(int)"
   ]
  },
  {
   "cell_type": "code",
   "execution_count": 12,
   "metadata": {},
   "outputs": [
    {
     "data": {
      "text/plain": [
       "defaultdict(int, {})"
      ]
     },
     "execution_count": 12,
     "metadata": {},
     "output_type": "execute_result"
    }
   ],
   "source": [
    "sentencas_importantes"
   ]
  },
  {
   "cell_type": "markdown",
   "metadata": {},
   "source": [
    "### Percorrendo as sentencas e coletar as estatisticas de cada uma"
   ]
  },
  {
   "cell_type": "code",
   "execution_count": 13,
   "metadata": {},
   "outputs": [],
   "source": [
    "for i, sentenca in enumerate(sentencas):\n",
    "    for palavra in word_tokenize(sentenca.lower()):\n",
    "        if palavra in frequencia:\n",
    "            sentencas_importantes[i] += frequencia[palavra]"
   ]
  },
  {
   "cell_type": "code",
   "execution_count": 14,
   "metadata": {},
   "outputs": [
    {
     "data": {
      "text/plain": [
       "defaultdict(int,\n",
       "            {0: 81,\n",
       "             1: 70,\n",
       "             2: 60,\n",
       "             3: 45,\n",
       "             4: 54,\n",
       "             5: 25,\n",
       "             6: 62,\n",
       "             7: 52,\n",
       "             8: 48,\n",
       "             9: 81,\n",
       "             10: 22})"
      ]
     },
     "execution_count": 14,
     "metadata": {},
     "output_type": "execute_result"
    }
   ],
   "source": [
    "sentencas_importantes"
   ]
  },
  {
   "cell_type": "markdown",
   "metadata": {},
   "source": [
    "## Resultado"
   ]
  },
  {
   "cell_type": "code",
   "execution_count": 15,
   "metadata": {},
   "outputs": [
    {
     "name": "stdout",
     "output_type": "stream",
     "text": [
      "[0, 9, 1, 6, 2]\n"
     ]
    }
   ],
   "source": [
    "from heapq import nlargest\n",
    "\n",
    "idx_sentencas_importantes = nlargest(5, sentencas_importantes, sentencas_importantes.get)\n",
    "print(idx_sentencas_importantes)"
   ]
  },
  {
   "cell_type": "code",
   "execution_count": 16,
   "metadata": {},
   "outputs": [
    {
     "name": "stdout",
     "output_type": "stream",
     "text": [
      "MATERIA -  MPF obtém liminar contra Chesf por surgimento de mancha no Rio São Francisco - TNH1\n",
      "\n",
      "\n",
      "A Justiça Federal atendeu a pedidos de liminar feitos pelo Ministério Público Federal (MPF) e proibiu que a Companhia Hidrelétrica do São Francisco (Chesf) realize novo deplecionamento (redução de vazão) em qualquer reservatório integrante do Complexo Hidrelétrico de Paulo Afonso e da UHE Xingó, sem a observância de todas as condicionantes e/ou exigências estabelecidas em autorização ambiental concedida pelo IBAMA.\n",
      "A decisão foi da juíza federal Camila Monteiro Pullin, em resposta a ação civil pública ajuizada pelo MPF contra a Chesf em razão de manchas escuras que apareçam no Rio São Francisco, no ano de 2015, que levou ao desabastecimento de pelo menos sete municípios alagoanos, atingindo mais de 100 mil pessoas.\n",
      "A Justiça atendeu ainda ao pedido do MPF de pena de multa, por cada novo episódio, no valor de mais de R$ 6 milhões, correspondente a dez vezes o valor da multa aplicada pelo IMA/AL quando da ocorrência de 2015, sem prejuízo da reparação pelos danos ambientais materiais e morais advindos dessa eventual nova ocorrência.\n",
      "Após investigação, o MPF concluiu que a Chesf é responsável pelo aparecimento da mencionada mancha escura no rio, em razão de, no dia 22/02/2015, ter realizado uma operação de deplecionamento do reservatório Delmiro Gouveia, ou seja, uma redução do nível da água do reservatório, levando-o a um patamar que desde 2005 não era atingido.\n",
      "Ambos pagamentos seriam revertidos ao Fundo de Defesa de Direitos Difusos e/ou em conta judicial a ser aberta especificamente para subsidiar projetos ambientais de fiscalização, conscientização e preservação ambiental no baixo São Francisco, sob responsabilidade do Comitê da Bacia Hidrográfica do Rio São Francisco e mediante prévio exame, aprovação e fiscalização do MPF, de órgãos ambientais e da própria Justiça Federal.\n"
     ]
    }
   ],
   "source": [
    "# Titulo\n",
    "print(\"MATERIA - \",dados.title.get_text())\n",
    "print()\n",
    "\n",
    "for i in sorted(idx_sentencas_importantes):\n",
    "    print(sentencas[i])\n"
   ]
  }
 ],
 "metadata": {
  "kernelspec": {
   "display_name": "Python 3",
   "language": "python",
   "name": "python3"
  },
  "language_info": {
   "codemirror_mode": {
    "name": "ipython",
    "version": 3
   },
   "file_extension": ".py",
   "mimetype": "text/x-python",
   "name": "python",
   "nbconvert_exporter": "python",
   "pygments_lexer": "ipython3",
   "version": "3.5.4"
  }
 },
 "nbformat": 4,
 "nbformat_minor": 2
}
